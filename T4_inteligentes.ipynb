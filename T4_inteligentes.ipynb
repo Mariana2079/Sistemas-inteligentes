{
  "nbformat": 4,
  "nbformat_minor": 0,
  "metadata": {
    "colab": {
      "provenance": [],
      "authorship_tag": "ABX9TyNiQ0uQl2ax0g02MIEpZf6a",
      "include_colab_link": true
    },
    "kernelspec": {
      "name": "python3",
      "display_name": "Python 3"
    },
    "language_info": {
      "name": "python"
    }
  },
  "cells": [
    {
      "cell_type": "markdown",
      "metadata": {
        "id": "view-in-github",
        "colab_type": "text"
      },
      "source": [
        "<a href=\"https://colab.research.google.com/github/Mariana2079/Sistemas-inteligentes/blob/main/T4_inteligentes.ipynb\" target=\"_parent\"><img src=\"https://colab.research.google.com/assets/colab-badge.svg\" alt=\"Open In Colab\"/></a>"
      ]
    },
    {
      "cell_type": "code",
      "execution_count": null,
      "metadata": {
        "id": "xv9yN51uILfO"
      },
      "outputs": [],
      "source": [
        "estados_visitados = []\n",
        "movimentos_total = 100\n",
        "objetivo = [0, 1, 2, 3, 4, 5, 6, 7, 8]\n",
        "expandido = 0 \n",
        "count = 0"
      ]
    },
    {
      "cell_type": "code",
      "source": [
        "class no:\n",
        "    def __init__(self, estado, parent, operador, nivel, movimentos):\n",
        "        self.estado = estado\n",
        "        self.parent = parent\n",
        "        self.operador = operador\n",
        "        self.nivel = nivel\n",
        "        self.movimentos = movimentos"
      ],
      "metadata": {
        "id": "W1-CPsMNNOZm"
      },
      "execution_count": null,
      "outputs": []
    },
    {
      "cell_type": "code",
      "source": [
        "def cria_no(estado, parent, operador, nivel, movimentos):\n",
        "    return no(estado, parent, operador, nivel, movimentos)"
      ],
      "metadata": {
        "id": "FV3fmFxoooWL"
      },
      "execution_count": null,
      "outputs": []
    },
    {
      "cell_type": "code",
      "source": [
        "def expande_no(no):\n",
        "    expandido_nos = []\n",
        "    \n",
        "    temp_estado = move_abaixo(no.estado)\n",
        "    temp_no = cria_no(temp_estado,no,\"abaixo\",no.nivel+1,no.movimentos+1)\n",
        "    expandido_nos.append(temp_no)\n",
        "\n",
        "    temp_estado1 = move_acima(no.estado)\n",
        "    temp_no1 = cria_no(temp_estado1,no,\"acima\",no.nivel+1,no.movimentos+1)\n",
        "    expandido_nos.append(temp_no1)\n",
        "\n",
        "    temp_estado2 = move_esquerda(no.estado)\n",
        "    temp_no2 = cria_no(temp_estado2,no,\"esquerda\",no.nivel+1,no.movimentos+1)\n",
        "    expandido_nos.append(temp_no2)\n",
        "\n",
        "    temp_estado3 = move_direita(no.estado)\n",
        "    temp_no3 = cria_no(temp_estado3,no,\"direita\",no.nivel+1,no.movimentos+1)\n",
        "    expandido_nos.append(temp_no3)\n",
        "   \n",
        "    return expandido_nos"
      ],
      "metadata": {
        "id": "9XrQCw7dooYR"
      },
      "execution_count": null,
      "outputs": []
    },
    {
      "cell_type": "code",
      "source": [
        "def move_esquerda(estado):\n",
        "    troca = estado.copy()\n",
        "    idx = troca.index(0) #pega posicao de espaco em branco\n",
        "    if (idx == 0 or idx == 3 or idx == 6):\n",
        "        return troca\n",
        "    else:\n",
        "        troca[idx-1] , troca[idx] = troca[idx] , troca[idx-1]  #valor de troca com a entrada esquerda\n",
        "        return troca"
      ],
      "metadata": {
        "id": "vkTxbBz2ooae"
      },
      "execution_count": null,
      "outputs": []
    },
    {
      "cell_type": "code",
      "source": [
        "def move_direita(estado):\n",
        "    troca = estado.copy()\n",
        "    idx = troca.index(0)  \n",
        "    if (idx == 2 or idx == 5 or idx == 8):\n",
        "        return troca\n",
        "    else:\n",
        "        troca[idx+1] , troca[idx] = troca[idx] , troca[idx+1]  #valor de troca com a entrada direita\n",
        "        return troca\n"
      ],
      "metadata": {
        "id": "4cudbl2loocl"
      },
      "execution_count": null,
      "outputs": []
    },
    {
      "cell_type": "code",
      "source": [
        "def move_acima(estado):\n",
        "    troca = estado.copy()\n",
        "    idx = troca.index(0) \n",
        "    if (idx == 0 or idx == 1 or idx == 2):\n",
        "        return troca\n",
        "    else:\n",
        "        troca[idx-3] , troca[idx] = troca[idx] , troca[idx-3]  #valor de troca com a entrada acima\n",
        "        return troca"
      ],
      "metadata": {
        "id": "v7dW72Yuooeg"
      },
      "execution_count": null,
      "outputs": []
    },
    {
      "cell_type": "code",
      "source": [
        "def move_abaixo(estado):\n",
        "    troca = estado.copy()\n",
        "    idx = troca.index(0) \n",
        "    if (idx == 6 or idx == 7 or idx ==8):\n",
        "        return troca\n",
        "    else:\n",
        "        troca[idx+3] , troca[idx] = troca[idx] , troca[idx+3]  #valor de troca com a entrada abaixo\n",
        "        return troca"
      ],
      "metadata": {
        "id": "HGUodUEVoog6"
      },
      "execution_count": null,
      "outputs": []
    },
    {
      "cell_type": "code",
      "source": [
        "def busca_largura(inicio, objetivo):\n",
        "\n",
        "    if (inicio == objetivo):\n",
        "        return [None]\n",
        "    else:\n",
        "        ser_expandido = []  # matriz de todos os nós em um nível\n",
        "        atual_no = cria_no(inicio,None,None,0,0)       \n",
        "        ser_expandido.append(atual_no) #adicionando o primeiro nó ao array em expansão\n",
        "    \n",
        "        for i in range(movimentos_total):\n",
        "            temp_expandido = []\n",
        "\n",
        "            tamanho = len(ser_expandido)          #Número de estados ainda a serem expandidos\n",
        "\n",
        "\n",
        "            for j in range(tamanho) :\n",
        "                if (ser_expandido[j] in estados_visitados) :  # não expande se já foi visitado\n",
        "                    continue;\n",
        " \n",
        "                no_array = expande_no(ser_expandido[j])  # uma expansão\n",
        "                \n",
        "                # verificando os 4 nós e adicionando-os ao array temporário\n",
        "                for x in range(4):\n",
        "                    if (no_array[x].estado == objetivo):\n",
        "                        count = i+1\n",
        "                        no_array[x].estado\n",
        "                        return no_array[x]\n",
        "                    else :\n",
        "                        temp_expandido.append(no_array[x]) # nó será expandido mais tarde\n",
        "\n",
        "            ser_expandido.clear()  #limpando os nós anteriores (já expandidos)\n",
        "            ser_expandido = temp_expandido.copy()   #copiando os nós recém-gerados\n",
        "            temp_expandido.clear()   #limpando o array temporário\n",
        "    return None\n"
      ],
      "metadata": {
        "id": "38OQAxIELJcW"
      },
      "execution_count": null,
      "outputs": []
    },
    {
      "cell_type": "code",
      "source": [
        "def main():\n",
        "    jogo = \"1,2,5,3,4,0,6,7,8\"\n",
        "    jogo_split = jogo.split(',')  #metodo split() separa string em substring\n",
        "    inicio_estado = [int(i) for i in jogo_split]\n",
        "    print(\"Estado inicial\\n\", inicio_estado)\n",
        "\n",
        "    if (len(inicio_estado) == 9):\n",
        "        resultado = busca_largura(inicio_estado, objetivo)\n",
        "\n",
        "        print (\"Movimentos = \", resultado.movimentos)\n",
        "        caminho = [];\n",
        "        caminho.append(resultado.estado)\n",
        "        atual = resultado\n",
        "\n",
        "        flag = True\n",
        "\n",
        "        while (flag) :\n",
        "            parent = atual.parent\n",
        "            antes_estado = parent.estado\n",
        "            caminho.append(antes_estado)\n",
        "            atual = parent\n",
        "\n",
        "            if (antes_estado == inicio_estado) :\n",
        "                flag = False\n",
        "        caminho.reverse()\n",
        "      \n",
        "        print(\"Passo a passo\\n\")\n",
        "        for estado in caminho :\n",
        "            print(estado[0] , estado[1], estado[2])\n",
        "            print(estado[3] , estado[4], estado[5])\n",
        "            print(estado[6] , estado[7], estado[8])\n",
        "            print()\n",
        "\n",
        "if __name__ == \"__main__\":\n",
        "    main()"
      ],
      "metadata": {
        "colab": {
          "base_uri": "https://localhost:8080/"
        },
        "id": "LUHDANN8oono",
        "outputId": "d87f0ff2-8fd8-4db3-d59b-cc5ede0e0a74"
      },
      "execution_count": null,
      "outputs": [
        {
          "output_type": "stream",
          "name": "stdout",
          "text": [
            "Estado inicial\n",
            " [1, 2, 5, 3, 4, 0, 6, 7, 8]\n",
            "Movimentos =  3\n",
            "Passo a passo\n",
            "\n",
            "1 2 5\n",
            "3 4 0\n",
            "6 7 8\n",
            "\n",
            "1 2 0\n",
            "3 4 5\n",
            "6 7 8\n",
            "\n",
            "1 0 2\n",
            "3 4 5\n",
            "6 7 8\n",
            "\n",
            "0 1 2\n",
            "3 4 5\n",
            "6 7 8\n",
            "\n"
          ]
        }
      ]
    }
  ]
}